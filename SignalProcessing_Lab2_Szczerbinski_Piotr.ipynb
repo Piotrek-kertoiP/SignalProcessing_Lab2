{
 "cells": [
  {
   "cell_type": "code",
   "execution_count": 94,
   "id": "724e1088",
   "metadata": {},
   "outputs": [],
   "source": [
    "#Podpunkt A:"
   ]
  },
  {
   "cell_type": "code",
   "execution_count": 95,
   "id": "2ded5fcd",
   "metadata": {},
   "outputs": [],
   "source": [
    "from sympy import * \n",
    "import sympy"
   ]
  },
  {
   "cell_type": "code",
   "execution_count": 96,
   "id": "491c7a83",
   "metadata": {},
   "outputs": [],
   "source": [
    "# T - okres funkcji\n",
    "# nMax - ilość współczynników do policzenia\n",
    "# p - parametr indywidualny\n",
    "# s - sygnał"
   ]
  },
  {
   "cell_type": "code",
   "execution_count": 97,
   "id": "0d098084",
   "metadata": {},
   "outputs": [
    {
     "name": "stdout",
     "output_type": "stream",
     "text": [
      "Counting integral no. 0\n",
      "Counting integral no. 1\n",
      "Counting integral no. 2\n",
      "[0.880000000000000, -5.28/pi**2, 1.32/pi**2]\n"
     ]
    }
   ],
   "source": [
    "T = 2\n",
    "nMax = 2\n",
    "tSym = Symbol('t')    #symbolic t\n",
    "p = 1.320\n",
    "s = p * tSym**2\n",
    "\n",
    "integrands = list()\n",
    "for n in range(0,nMax+1):\n",
    "    integrand = s * sympy.cos(2*n*pi*tSym/T)\n",
    "    integrands.append(integrand)\n",
    "\n",
    "ans = list()\n",
    "for n in range(0,nMax+1):\n",
    "    print(\"Counting integral no. \" + str(n))\n",
    "    intResult = integrate(integrands[n], (tSym,-T/2,T/2))\n",
    "    an = 2/T * intResult\n",
    "    ans.append(an)\n",
    "\n",
    "print(str(ans))"
   ]
  },
  {
   "cell_type": "code",
   "execution_count": 98,
   "id": "6696c38f",
   "metadata": {},
   "outputs": [],
   "source": [
    "# Wyznaczono współczynniki szeregu Fouriera dla n <= 2"
   ]
  },
  {
   "cell_type": "code",
   "execution_count": 99,
   "id": "e72c90d4",
   "metadata": {},
   "outputs": [
    {
     "name": "stdout",
     "output_type": "stream",
     "text": [
      "a0 = 1.32/pi**2\n",
      "a1 = 0.880000000000000\n",
      "a2 = -5.28/pi**2\n"
     ]
    }
   ],
   "source": [
    "for n in range(0,nMax+1):\n",
    "    print(\"a\" + str(n) +\" = \" + str(ans[n-1]))"
   ]
  },
  {
   "cell_type": "code",
   "execution_count": 100,
   "id": "19b4fca6",
   "metadata": {},
   "outputs": [],
   "source": [
    "# Podpunkt B:"
   ]
  },
  {
   "cell_type": "code",
   "execution_count": 101,
   "id": "35602e1d",
   "metadata": {},
   "outputs": [],
   "source": [
    "omega = 2*pi/T\n",
    "a0 = ans[0]\n",
    "a1 = ans[1]\n",
    "a2 = ans[2]\n",
    "f = a0 + a1 * sympy.cos(omega*tSym) + a2 * sympy.cos(2*omega*tSym)"
   ]
  },
  {
   "cell_type": "code",
   "execution_count": 102,
   "id": "36b769a6",
   "metadata": {},
   "outputs": [
    {
     "name": "stdout",
     "output_type": "stream",
     "text": [
      "-5.28*cos(pi*t)/pi**2 + 1.32*cos(2*pi*t)/pi**2 + 0.88\n"
     ]
    }
   ],
   "source": [
    "print(f)"
   ]
  },
  {
   "cell_type": "code",
   "execution_count": 103,
   "id": "c92342b0",
   "metadata": {},
   "outputs": [],
   "source": [
    "# Definiujemy wielomian, którym przybliżamy funkcję f\n",
    "# w(t) = a*t^2 + b*t + c\n",
    "# gdzie a, b, c to współczynniki"
   ]
  },
  {
   "cell_type": "code",
   "execution_count": 104,
   "id": "7354590e",
   "metadata": {},
   "outputs": [],
   "source": [
    "aSym = Symbol('a')\n",
    "bSym = Symbol('b')\n",
    "cSym = Symbol('c')\n",
    "w = aSym * tSym**2 + bSym * tSym + cSym"
   ]
  },
  {
   "cell_type": "code",
   "execution_count": 105,
   "id": "fc837850",
   "metadata": {},
   "outputs": [
    {
     "name": "stdout",
     "output_type": "stream",
     "text": [
      "a*t**2 + b*t + c\n"
     ]
    }
   ],
   "source": [
    "print(w)"
   ]
  },
  {
   "cell_type": "code",
   "execution_count": 106,
   "id": "7b660803",
   "metadata": {},
   "outputs": [],
   "source": [
    "# Energia różnicy sygnałów f i w to całka od -T/2 do T/2 z (f(t) - w(t))^2"
   ]
  },
  {
   "cell_type": "code",
   "execution_count": 107,
   "id": "89e021c8",
   "metadata": {},
   "outputs": [],
   "source": [
    "energy = integrate((f - w)**2, (tSym, -T/2, T/2))"
   ]
  },
  {
   "cell_type": "code",
   "execution_count": 108,
   "id": "b0ac631d",
   "metadata": {},
   "outputs": [
    {
     "name": "stdout",
     "output_type": "stream",
     "text": [
      "0.4*a**2 + 1.33333333333333*a*c - 1.17333333333333*a - 44.88*a/pi**4 + 0.666666666666667*b**2 + 2.0*c**2 - 3.52*c + 29.6208/pi**4 + 1.5488\n"
     ]
    }
   ],
   "source": [
    "print(energy)"
   ]
  },
  {
   "cell_type": "code",
   "execution_count": 109,
   "id": "07508b51",
   "metadata": {},
   "outputs": [],
   "source": [
    "# Otrzymujemy wyrażenie zależne od 3 zmiennych - a, b, c\n",
    "# Teraz chcemy znaleźć takie a, b, c, by powyższa całka była minimalna\n",
    "# Liczymy pochodne cząstkowe, czyli po a, po b i po c"
   ]
  },
  {
   "cell_type": "code",
   "execution_count": 110,
   "id": "a98f4246",
   "metadata": {},
   "outputs": [],
   "source": [
    "energyDerA = diff(energy, aSym)\n",
    "energyDerB = diff(energy, bSym)\n",
    "energyDerC = diff(energy, cSym)"
   ]
  },
  {
   "cell_type": "code",
   "execution_count": 111,
   "id": "cb65c58a",
   "metadata": {},
   "outputs": [
    {
     "name": "stdout",
     "output_type": "stream",
     "text": [
      "energyDerA = 0.8*a + 1.33333333333333*c - 1.17333333333333 - 44.88/pi**4\n",
      "energyDerB = 1.33333333333333*b\n",
      "energyDerC = 1.33333333333333*a + 4.0*c - 3.52\n"
     ]
    }
   ],
   "source": [
    "print(\"energyDerA = \" + str(energyDerA))\n",
    "print(\"energyDerB = \" + str(energyDerB))\n",
    "print(\"energyDerC = \" + str(energyDerC))"
   ]
  },
  {
   "cell_type": "code",
   "execution_count": 112,
   "id": "66b95459",
   "metadata": {},
   "outputs": [],
   "source": [
    "# Mamy 3 równania i 3 niewiadome\n",
    "# Znajdujemy miejsca zerowe pochodnych cząstkowych"
   ]
  },
  {
   "cell_type": "code",
   "execution_count": 113,
   "id": "0f9f52e3",
   "metadata": {},
   "outputs": [],
   "source": [
    "potentialSolutions = solve([energyDerA, energyDerC, energyDerC], (aSym, bSym, cSym))"
   ]
  },
  {
   "cell_type": "code",
   "execution_count": 114,
   "id": "4e49fb69",
   "metadata": {},
   "outputs": [
    {
     "name": "stdout",
     "output_type": "stream",
     "text": [
      "{a: 1.29582361009752, c: 0.448058796634160}\n"
     ]
    }
   ],
   "source": [
    "print(str(potentialSolutions))"
   ]
  },
  {
   "cell_type": "code",
   "execution_count": 115,
   "id": "178c6667",
   "metadata": {},
   "outputs": [],
   "source": [
    "# Nie wiem czemu nie pokazuje b = 0 w rozwiązaniu - dodajemy"
   ]
  },
  {
   "cell_type": "code",
   "execution_count": 116,
   "id": "4fa2dc89",
   "metadata": {},
   "outputs": [],
   "source": [
    "potentialSolutions[bSym] = 0"
   ]
  },
  {
   "cell_type": "code",
   "execution_count": 117,
   "id": "7491b33d",
   "metadata": {},
   "outputs": [
    {
     "name": "stdout",
     "output_type": "stream",
     "text": [
      "{a: 1.29582361009752, c: 0.448058796634160, b: 0}\n"
     ]
    }
   ],
   "source": [
    "print(potentialSolutions)"
   ]
  },
  {
   "cell_type": "code",
   "execution_count": 118,
   "id": "ec71e35f",
   "metadata": {},
   "outputs": [],
   "source": [
    "# W moim przypadku jest tylko 1 rozwiązanie\n",
    "# Zostaje sprawdzić czy nie trafiliśmy na maksimum\n",
    "# Liczymy wartość energy dla znalezionych a, b, c i dla arbitralnie wybranych innych a, b, c"
   ]
  },
  {
   "cell_type": "code",
   "execution_count": 119,
   "id": "3d415f6c",
   "metadata": {},
   "outputs": [],
   "source": [
    "extremeValue = energy.evalf(subs=potentialSolutions)"
   ]
  },
  {
   "cell_type": "code",
   "execution_count": 120,
   "id": "614bfd65",
   "metadata": {},
   "outputs": [
    {
     "name": "stdout",
     "output_type": "stream",
     "text": [
      "0.00556948210534157\n"
     ]
    }
   ],
   "source": [
    "print(extremeValue)"
   ]
  },
  {
   "cell_type": "code",
   "execution_count": 121,
   "id": "5f05941d",
   "metadata": {},
   "outputs": [
    {
     "name": "stdout",
     "output_type": "stream",
     "text": [
      "1.09881599024599\n"
     ]
    }
   ],
   "source": [
    "anyValue = energy.evalf(subs={aSym:1,bSym:1,cSym:1})\n",
    "print(anyValue)"
   ]
  },
  {
   "cell_type": "code",
   "execution_count": 122,
   "id": "1897c030",
   "metadata": {},
   "outputs": [],
   "source": [
    "# Szczęśliwie trafiliśmy w minimum"
   ]
  }
 ],
 "metadata": {
  "kernelspec": {
   "display_name": "Python 3 (ipykernel)",
   "language": "python",
   "name": "python3"
  },
  "language_info": {
   "codemirror_mode": {
    "name": "ipython",
    "version": 3
   },
   "file_extension": ".py",
   "mimetype": "text/x-python",
   "name": "python",
   "nbconvert_exporter": "python",
   "pygments_lexer": "ipython3",
   "version": "3.8.2"
  }
 },
 "nbformat": 4,
 "nbformat_minor": 5
}
