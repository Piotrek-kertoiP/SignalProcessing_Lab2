{
 "cells": [
  {
   "cell_type": "code",
   "execution_count": 94,
   "id": "3f1f754a",
   "metadata": {},
   "outputs": [],
   "source": [
    "#Podpunkt A:"
   ]
  },
  {
   "cell_type": "code",
   "execution_count": 95,
   "id": "1d0d7431",
   "metadata": {},
   "outputs": [],
   "source": [
    "from sympy import * \n",
    "import sympy"
   ]
  },
  {
   "cell_type": "code",
   "execution_count": 96,
   "id": "450ecd02",
   "metadata": {},
   "outputs": [],
   "source": [
    "# T - okres funkcji\n",
    "# nMax - ilość współczynników do policzenia\n",
    "# p - parametr indywidualny\n",
    "# s - sygnał"
   ]
  },
  {
   "cell_type": "code",
   "execution_count": 97,
   "id": "c0167cb5",
   "metadata": {},
   "outputs": [
    {
     "name": "stdout",
     "output_type": "stream",
     "text": [
      "Counting integral no. 0\n",
      "Counting integral no. 1\n",
      "Counting integral no. 2\n",
      "[0.880000000000000, -5.28/pi**2, 1.32/pi**2]\n"
     ]
    }
   ],
   "source": [
    "T = 2\n",
    "nMax = 2\n",
    "tSym = Symbol('t')    #symbolic t\n",
    "p = 1.320\n",
    "s = p * tSym**2\n",
    "\n",
    "integrands = list()\n",
    "for n in range(0,nMax+1):\n",
    "    integrand = s * sympy.cos(2*n*pi*tSym/T)\n",
    "    integrands.append(integrand)\n",
    "\n",
    "ans = list()\n",
    "for n in range(0,nMax+1):\n",
    "    print(\"Counting integral no. \" + str(n))\n",
    "    intResult = integrate(integrands[n], (tSym,-T/2,T/2))\n",
    "    an = 2/T * intResult\n",
    "    ans.append(an)\n",
    "\n",
    "print(str(ans))"
   ]
  },
  {
   "cell_type": "code",
   "execution_count": 98,
   "id": "21fb4c0f",
   "metadata": {},
   "outputs": [],
   "source": [
    "# Wyznaczono współczynniki szeregu Fouriera dla n <= 2"
   ]
  },
  {
   "cell_type": "code",
   "execution_count": 99,
   "id": "942f6319",
   "metadata": {},
   "outputs": [
    {
     "name": "stdout",
     "output_type": "stream",
     "text": [
      "a0 = 1.32/pi**2\n",
      "a1 = 0.880000000000000\n",
      "a2 = -5.28/pi**2\n"
     ]
    }
   ],
   "source": [
    "for n in range(0,nMax+1):\n",
    "    print(\"a\" + str(n) +\" = \" + str(ans[n-1]))"
   ]
  },
  {
   "cell_type": "code",
   "execution_count": 125,
   "id": "201cdc82",
   "metadata": {},
   "outputs": [],
   "source": [
    "import matplotlib.pyplot as plt\n",
    "import numpy as np"
   ]
  },
  {
   "cell_type": "code",
   "execution_count": 136,
   "id": "3b0b6775",
   "metadata": {},
   "outputs": [],
   "source": [
    "tArgs = np.arange(-1.0, 1.0, 0.1)\n",
    "def evalS(t):\n",
    "    return s.evalf(subs={tSym:t})\n",
    "sValues = list(map(evalS, tArgs))"
   ]
  },
  {
   "cell_type": "code",
   "execution_count": 139,
   "id": "ec4c0503",
   "metadata": {},
   "outputs": [],
   "source": [
    "fourierS = ans[0] + ans[1] * sympy.cos(2*pi/T * tSym) + ans[2] * sympy.cos(4*pi/T * tSym)"
   ]
  },
  {
   "cell_type": "code",
   "execution_count": 140,
   "id": "667b66f6",
   "metadata": {},
   "outputs": [],
   "source": [
    "def evalFourierS(t):\n",
    "    return fourierS.evalf(subs={tSym:t})\n",
    "fourierSValues = list(map(evalFourierS, tArgs))"
   ]
  },
  {
   "cell_type": "code",
   "execution_count": 142,
   "id": "0ef15624",
   "metadata": {},
   "outputs": [
    {
     "data": {
      "image/png": "[encoded data removed]",
      "text/plain": [
       "<Figure size 432x288 with 1 Axes>"
      ]
     },
     "metadata": {
      "needs_background": "light"
     },
     "output_type": "display_data"
    }
   ],
   "source": [
    "plt.plot(tArgs, sValues)\n",
    "plt.plot(tArgs, fourierSValues)\n",
    "\n",
    "plt.legend([\"sValues\", \"fourierSValues\"])\n",
    "\n",
    "plt.show()"
   ]
  },
  {
   "cell_type": "code",
   "execution_count": 143,
   "id": "abf397d4",
   "metadata": {},
   "outputs": [],
   "source": [
    "#Bywało lepiej :)"
   ]
  },
  {
   "cell_type": "code",
   "execution_count": 100,
   "id": "c0f61695",
   "metadata": {},
   "outputs": [],
   "source": [
    "# Podpunkt B:"
   ]
  },
  {
   "cell_type": "code",
   "execution_count": 101,
   "id": "a89849a5",
   "metadata": {},
   "outputs": [],
   "source": [
    "omega = 2*pi/T\n",
    "a0 = ans[0]\n",
    "a1 = ans[1]\n",
    "a2 = ans[2]\n",
    "f = a0 + a1 * sympy.cos(omega*tSym) + a2 * sympy.cos(2*omega*tSym)"
   ]
  },
  {
   "cell_type": "code",
   "execution_count": 102,
   "id": "373bc6ea",
   "metadata": {},
   "outputs": [
    {
     "name": "stdout",
     "output_type": "stream",
     "text": [
      "-5.28*cos(pi*t)/pi**2 + 1.32*cos(2*pi*t)/pi**2 + 0.88\n"
     ]
    }
   ],
   "source": [
    "print(f)"
   ]
  },
  {
   "cell_type": "code",
   "execution_count": 103,
   "id": "00a3aabf",
   "metadata": {},
   "outputs": [],
   "source": [
    "# Definiujemy wielomian, którym przybliżamy funkcję f\n",
    "# w(t) = a*t^2 + b*t + c\n",
    "# gdzie a, b, c to współczynniki"
   ]
  },
  {
   "cell_type": "code",
   "execution_count": 104,
   "id": "8d261217",
   "metadata": {},
   "outputs": [],
   "source": [
    "aSym = Symbol('a')\n",
    "bSym = Symbol('b')\n",
    "cSym = Symbol('c')\n",
    "w = aSym * tSym**2 + bSym * tSym + cSym"
   ]
  },
  {
   "cell_type": "code",
   "execution_count": 105,
   "id": "d2289f1f",
   "metadata": {},
   "outputs": [
    {
     "name": "stdout",
     "output_type": "stream",
     "text": [
      "a*t**2 + b*t + c\n"
     ]
    }
   ],
   "source": [
    "print(w)"
   ]
  },
  {
   "cell_type": "code",
   "execution_count": 106,
   "id": "e0abaa23",
   "metadata": {},
   "outputs": [],
   "source": [
    "# Energia różnicy sygnałów f i w to całka od -T/2 do T/2 z (f(t) - w(t))^2"
   ]
  },
  {
   "cell_type": "code",
   "execution_count": 107,
   "id": "3e09b752",
   "metadata": {},
   "outputs": [],
   "source": [
    "energy = integrate((f - w)**2, (tSym, -T/2, T/2))"
   ]
  },
  {
   "cell_type": "code",
   "execution_count": 108,
   "id": "9afdbfb3",
   "metadata": {},
   "outputs": [
    {
     "name": "stdout",
     "output_type": "stream",
     "text": [
      "0.4*a**2 + 1.33333333333333*a*c - 1.17333333333333*a - 44.88*a/pi**4 + 0.666666666666667*b**2 + 2.0*c**2 - 3.52*c + 29.6208/pi**4 + 1.5488\n"
     ]
    }
   ],
   "source": [
    "print(energy)"
   ]
  },
  {
   "cell_type": "code",
   "execution_count": 109,
   "id": "7a9d3c85",
   "metadata": {},
   "outputs": [],
   "source": [
    "# Otrzymujemy wyrażenie zależne od 3 zmiennych - a, b, c\n",
    "# Teraz chcemy znaleźć takie a, b, c, by powyższa całka była minimalna\n",
    "# Liczymy pochodne cząstkowe, czyli po a, po b i po c"
   ]
  },
  {
   "cell_type": "code",
   "execution_count": 110,
   "id": "fe829b2e",
   "metadata": {},
   "outputs": [],
   "source": [
    "energyDerA = diff(energy, aSym)\n",
    "energyDerB = diff(energy, bSym)\n",
    "energyDerC = diff(energy, cSym)"
   ]
  },
  {
   "cell_type": "code",
   "execution_count": 111,
   "id": "19671b51",
   "metadata": {},
   "outputs": [
    {
     "name": "stdout",
     "output_type": "stream",
     "text": [
      "energyDerA = 0.8*a + 1.33333333333333*c - 1.17333333333333 - 44.88/pi**4\n",
      "energyDerB = 1.33333333333333*b\n",
      "energyDerC = 1.33333333333333*a + 4.0*c - 3.52\n"
     ]
    }
   ],
   "source": [
    "print(\"energyDerA = \" + str(energyDerA))\n",
    "print(\"energyDerB = \" + str(energyDerB))\n",
    "print(\"energyDerC = \" + str(energyDerC))"
   ]
  },
  {
   "cell_type": "code",
   "execution_count": 112,
   "id": "d21c8691",
   "metadata": {},
   "outputs": [],
   "source": [
    "# Mamy 3 równania i 3 niewiadome\n",
    "# Znajdujemy miejsca zerowe pochodnych cząstkowych"
   ]
  },
  {
   "cell_type": "code",
   "execution_count": 113,
   "id": "29f15d9c",
   "metadata": {},
   "outputs": [],
   "source": [
    "potentialSolutions = solve([energyDerA, energyDerC, energyDerC], (aSym, bSym, cSym))"
   ]
  },
  {
   "cell_type": "code",
   "execution_count": 114,
   "id": "fc049b62",
   "metadata": {},
   "outputs": [
    {
     "name": "stdout",
     "output_type": "stream",
     "text": [
      "{a: 1.29582361009752, c: 0.448058796634160}\n"
     ]
    }
   ],
   "source": [
    "print(str(potentialSolutions))"
   ]
  },
  {
   "cell_type": "code",
   "execution_count": 115,
   "id": "622ea379",
   "metadata": {},
   "outputs": [],
   "source": [
    "# Nie wiem czemu nie pokazuje b = 0 w rozwiązaniu - dodajemy"
   ]
  },
  {
   "cell_type": "code",
   "execution_count": 116,
   "id": "4daf51d3",
   "metadata": {},
   "outputs": [],
   "source": [
    "potentialSolutions[bSym] = 0"
   ]
  },
  {
   "cell_type": "code",
   "execution_count": 117,
   "id": "04fd2c0c",
   "metadata": {},
   "outputs": [
    {
     "name": "stdout",
     "output_type": "stream",
     "text": [
      "{a: 1.29582361009752, c: 0.448058796634160, b: 0}\n"
     ]
    }
   ],
   "source": [
    "print(potentialSolutions)"
   ]
  },
  {
   "cell_type": "code",
   "execution_count": 118,
   "id": "6f969e96",
   "metadata": {},
   "outputs": [],
   "source": [
    "# W moim przypadku jest tylko 1 rozwiązanie\n",
    "# Zostaje sprawdzić czy nie trafiliśmy na maksimum\n",
    "# Liczymy wartość energy dla znalezionych a, b, c i dla arbitralnie wybranych innych a, b, c"
   ]
  },
  {
   "cell_type": "code",
   "execution_count": 119,
   "id": "806e9d3c",
   "metadata": {},
   "outputs": [],
   "source": [
    "extremeValue = energy.evalf(subs=potentialSolutions)"
   ]
  },
  {
   "cell_type": "code",
   "execution_count": 120,
   "id": "06f70cb3",
   "metadata": {},
   "outputs": [
    {
     "name": "stdout",
     "output_type": "stream",
     "text": [
      "0.00556948210534157\n"
     ]
    }
   ],
   "source": [
    "print(extremeValue)"
   ]
  },
  {
   "cell_type": "code",
   "execution_count": 121,
   "id": "b1c1fee3",
   "metadata": {},
   "outputs": [
    {
     "name": "stdout",
     "output_type": "stream",
     "text": [
      "1.09881599024599\n"
     ]
    }
   ],
   "source": [
    "anyValue = energy.evalf(subs={aSym:1,bSym:1,cSym:1})\n",
    "print(anyValue)"
   ]
  },
  {
   "cell_type": "code",
   "execution_count": 122,
   "id": "79cf38df",
   "metadata": {},
   "outputs": [],
   "source": [
    "# Szczęśliwie trafiliśmy w minimum"
   ]
  }
 ],
 "metadata": {
  "kernelspec": {
   "display_name": "Python 3 (ipykernel)",
   "language": "python",
   "name": "python3"
  },
  "language_info": {
   "codemirror_mode": {
    "name": "ipython",
    "version": 3
   },
   "file_extension": ".py",
   "mimetype": "text/x-python",
   "name": "python",
   "nbconvert_exporter": "python",
   "pygments_lexer": "ipython3",
   "version": "3.8.2"
  }
 },
 "nbformat": 4,
 "nbformat_minor": 5
}
